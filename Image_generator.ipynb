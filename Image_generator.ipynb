{
 "cells": [
  {
   "cell_type": "markdown",
   "metadata": {
    "pycharm": {
     "name": "#%% md\n"
    }
   },
   "source": [
    "Packages"
   ]
  },
  {
   "cell_type": "markdown",
   "source": [],
   "metadata": {
    "collapsed": false
   }
  },
  {
   "cell_type": "code",
   "execution_count": 15,
   "metadata": {
    "pycharm": {
     "name": "#%%\n"
    }
   },
   "outputs": [],
   "source": [
    "from os import listdir\n",
    "import matplotlib.pyplot as plt\n",
    "from imutils import paths\n",
    "import cv2\n",
    "import os\n",
    "from tensorflow.keras.preprocessing.image import img_to_array\n",
    "from tensorflow.keras.preprocessing.image import load_img\n",
    "from sklearn.preprocessing import LabelBinarizer\n",
    "from tensorflow.keras.applications.mobilenet_v2 import preprocess_input\n",
    "from sklearn.model_selection import train_test_split\n",
    "import numpy as np\n",
    "import tensorflow as tf\n",
    "from tensorflow import keras\n",
    "from tensorflow.keras import layers"
   ]
  },
  {
   "cell_type": "markdown",
   "metadata": {},
   "source": [
    "Data preparation"
   ]
  },
  {
   "cell_type": "code",
   "execution_count": 2,
   "metadata": {
    "pycharm": {
     "name": "#%%\n"
    }
   },
   "outputs": [
    {
     "data": {
      "text/plain": "['.DS_Store',\n '01_TUMOR',\n '02_STROMA',\n '03_COMPLEX',\n '04_LYMPHO',\n '05_DEBRIS',\n '06_MUCOSA',\n '07_ADIPOSE',\n '08_EMPTY']"
     },
     "execution_count": 2,
     "metadata": {},
     "output_type": "execute_result"
    }
   ],
   "source": [
    "# Look at data folder structure\n",
    "classes_dir = listdir(\"data/Kather_texture_2016_image_tiles_5000\")\n",
    "classes_dir"
   ]
  },
  {
   "cell_type": "code",
   "execution_count": 3,
   "metadata": {
    "pycharm": {
     "name": "#%%\n"
    }
   },
   "outputs": [
    {
     "name": "stdout",
     "output_type": "stream",
     "text": [
      "[INFO] loading images...\n"
     ]
    }
   ],
   "source": [
    "# Load data\n",
    "print(\"[INFO] loading images...\")\n",
    "imagePaths = list(paths.list_images(\"data/Kather_texture_2016_image_tiles_5000\"))\n",
    "data = []\n",
    "labels = []\n",
    "# loop over the image paths\n",
    "for imagePath in imagePaths:\n",
    "    # extract the class label from the filename\n",
    "    label = (imagePath.split(os.path.sep)[-2][1])\n",
    "    # Since we are going to use MobileNetV2 we need to resize the images\n",
    "    # to the expected size by the pre-trained network.\n",
    "    image = load_img(imagePath, target_size=(28, 28)) # Resize image\n",
    "    image = img_to_array(image)\n",
    "    image = preprocess_input(image)\n",
    "    image = tf.cast(image, tf.float32) / 255.0 #normalize\n",
    "    data.append(image)\n",
    "    labels.append(label)\n",
    "# convert the data and labels to NumPy arrays\n",
    "data = np.array(data, dtype=\"float32\")\n",
    "labels = np.array(labels)"
   ]
  },
  {
   "cell_type": "code",
   "execution_count": 4,
   "outputs": [
    {
     "name": "stderr",
     "output_type": "stream",
     "text": [
      "Clipping input data to the valid range for imshow with RGB data ([0..1] for floats or [0..255] for integers).\n"
     ]
    },
    {
     "data": {
      "text/plain": "<matplotlib.image.AxesImage at 0x23b426a0b80>"
     },
     "execution_count": 4,
     "metadata": {},
     "output_type": "execute_result"
    },
    {
     "data": {
      "text/plain": "<Figure size 640x480 with 1 Axes>",
      "image/png": "[encoded data removed]"
     },
     "metadata": {},
     "output_type": "display_data"
    }
   ],
   "source": [
    "# display resized image\n",
    "plt.imshow(data[0]*255)"
   ],
   "metadata": {
    "collapsed": false,
    "pycharm": {
     "name": "#%%\n"
    }
   }
  },
  {
   "cell_type": "code",
   "execution_count": 5,
   "metadata": {
    "pycharm": {
     "name": "#%%\n"
    }
   },
   "outputs": [],
   "source": [
    "# # perform one-hot encoding on the labels\n",
    "# lb = LabelBinarizer()\n",
    "# labels = lb.fit_transform(labels)\n",
    "# # labels = to_categorical(labels)\n",
    "# print(labels[0], labels[0][0], type(labels[0]))"
   ]
  },
  {
   "cell_type": "code",
   "execution_count": 6,
   "metadata": {
    "pycharm": {
     "name": "#%%\n"
    }
   },
   "outputs": [],
   "source": [
    "# Split into train, val, test set\n",
    "# x, x_test, y, y_test = train_test_split(data, labels, test_size=0.2,train_size=0.8)\n",
    "# x_train, x_val, y_train, y_val = train_test_split(x, y, test_size = 0.25,train_size =0.75)"
   ]
  },
  {
   "cell_type": "markdown",
   "source": [
    "VAE encoder network"
   ],
   "metadata": {
    "collapsed": false,
    "pycharm": {
     "name": "#%% md\n"
    }
   }
  },
  {
   "cell_type": "code",
   "execution_count": 41,
   "outputs": [],
   "source": [
    "# Dimensionality of the latent space: a 3D space\n",
    "latent_dim = 3\n",
    "encoder_inputs = keras.Input(shape=(28, 28, 3)) # 1 for grayscale\n",
    "x = layers.Conv2D(32, 3, activation=\"relu\", strides=2, padding=\"same\")(encoder_inputs) #working with strides and not max pooling\n",
    "x = layers.Conv2D(64, 3, activation=\"relu\", strides=2, padding=\"same\")(x)\n",
    "x = layers.Flatten()(x)\n",
    "x = layers.Dense(16, activation=\"relu\")(x)\n",
    "# The input image ends up being encoded into these\n",
    "# two parameters (parameters are being predicted by model!)\n",
    "z_mean = layers.Dense(latent_dim, name=\"z_mean\")(x)\n",
    "z_log_var = layers.Dense(latent_dim, name=\"z_log_var\")(x)\n",
    "encoder = keras.Model(encoder_inputs, [z_mean, z_log_var], name=\"encoder\")"
   ],
   "metadata": {
    "collapsed": false,
    "pycharm": {
     "name": "#%%\n"
    }
   }
  },
  {
   "cell_type": "code",
   "execution_count": 28,
   "outputs": [
    {
     "name": "stdout",
     "output_type": "stream",
     "text": [
      "Model: \"encoder\"\n",
      "__________________________________________________________________________________________________\n",
      " Layer (type)                   Output Shape         Param #     Connected to                     \n",
      "==================================================================================================\n",
      " input_4 (InputLayer)           [(None, 28, 28, 3)]  0           []                               \n",
      "                                                                                                  \n",
      " conv2d_4 (Conv2D)              (None, 14, 14, 32)   896         ['input_4[0][0]']                \n",
      "                                                                                                  \n",
      " conv2d_5 (Conv2D)              (None, 7, 7, 64)     18496       ['conv2d_4[0][0]']               \n",
      "                                                                                                  \n",
      " flatten_1 (Flatten)            (None, 3136)         0           ['conv2d_5[0][0]']               \n",
      "                                                                                                  \n",
      " dense_3 (Dense)                (None, 16)           50192       ['flatten_1[0][0]']              \n",
      "                                                                                                  \n",
      " z_mean (Dense)                 (None, 2)            34          ['dense_3[0][0]']                \n",
      "                                                                                                  \n",
      " z_log_var (Dense)              (None, 2)            34          ['dense_3[0][0]']                \n",
      "                                                                                                  \n",
      "==================================================================================================\n",
      "Total params: 69,652\n",
      "Trainable params: 69,652\n",
      "Non-trainable params: 0\n",
      "__________________________________________________________________________________________________\n"
     ]
    }
   ],
   "source": [
    "encoder.summary()"
   ],
   "metadata": {
    "collapsed": false,
    "pycharm": {
     "name": "#%%\n"
    }
   }
  },
  {
   "cell_type": "code",
   "execution_count": 29,
   "outputs": [],
   "source": [
    "class Sampler(layers.Layer):\n",
    "    \"\"\"Uses (z_mean, z_log_var) to sample z, the vector encoding a digit.\"\"\"\n",
    "\n",
    "    def call(self, z_mean, z_log_var):\n",
    "        batch_size = tf.shape(z_mean)[0]\n",
    "        z_size = tf.shape(z_mean)[1]\n",
    "        # Draw a batch of random normal\n",
    "        # Apply the VAE vectors.\n",
    "        epsilon = tf.random.normal(shape=(batch_size, z_size))\n",
    "        # Apply the VAE vectors sampling formula\n",
    "        return z_mean + tf.exp(0.5 * z_log_var) * epsilon"
   ],
   "metadata": {
    "collapsed": false,
    "pycharm": {
     "name": "#%%\n"
    }
   }
  },
  {
   "cell_type": "code",
   "execution_count": 42,
   "outputs": [],
   "source": [
    "# Input where we’ll feed z\n",
    "latent_inputs = keras.Input(shape=(latent_dim,))\n",
    "# Produce the same number of coefficients that we\n",
    "# had at the level of the Flatten layer in the encoder\n",
    "x = layers.Dense(7 * 7 * 64, activation=\"relu\")(latent_inputs)\n",
    "# Revert the Flatten layer of the encoder\n",
    "x = layers.Reshape((7, 7, 64))(x)\n",
    "# Revert the Conv2D layers of the encoder\n",
    "x = layers.Conv2DTranspose(64, 3, activation=\"relu\", strides=2, padding=\"same\")(x)\n",
    "x = layers.Conv2DTranspose(32, 3, activation=\"relu\", strides=2, padding=\"same\")(x)\n",
    "# The output ends up with shape (28, 28, 3)\n",
    "decoder_outputs = layers.Conv2D(3, 3, activation=\"sigmoid\", padding=\"same\")(x)\n",
    "decoder = keras.Model(latent_inputs, decoder_outputs, name=\"decoder\")"
   ],
   "metadata": {
    "collapsed": false,
    "pycharm": {
     "name": "#%%\n"
    }
   }
  },
  {
   "cell_type": "code",
   "execution_count": 43,
   "outputs": [
    {
     "name": "stdout",
     "output_type": "stream",
     "text": [
      "Model: \"decoder\"\n",
      "_________________________________________________________________\n",
      " Layer (type)                Output Shape              Param #   \n",
      "=================================================================\n",
      " input_11 (InputLayer)       [(None, 3)]               0         \n",
      "                                                                 \n",
      " dense_10 (Dense)            (None, 3136)              12544     \n",
      "                                                                 \n",
      " reshape_5 (Reshape)         (None, 7, 7, 64)          0         \n",
      "                                                                 \n",
      " conv2d_transpose_10 (Conv2D  (None, 14, 14, 64)       36928     \n",
      " Transpose)                                                      \n",
      "                                                                 \n",
      " conv2d_transpose_11 (Conv2D  (None, 28, 28, 32)       18464     \n",
      " Transpose)                                                      \n",
      "                                                                 \n",
      " conv2d_15 (Conv2D)          (None, 28, 28, 3)         867       \n",
      "                                                                 \n",
      "=================================================================\n",
      "Total params: 68,803\n",
      "Trainable params: 68,803\n",
      "Non-trainable params: 0\n",
      "_________________________________________________________________\n"
     ]
    }
   ],
   "source": [
    "decoder.summary()"
   ],
   "metadata": {
    "collapsed": false,
    "pycharm": {
     "name": "#%%\n"
    }
   }
  },
  {
   "cell_type": "code",
   "execution_count": 32,
   "outputs": [],
   "source": [
    "class VAE(keras.Model):\n",
    "    def __init__(self, encoder, decoder, **kwargs):\n",
    "        super().__init__(**kwargs)\n",
    "        self.encoder = encoder\n",
    "        self.decoder = decoder\n",
    "        self.sampler = Sampler()\n",
    "        # We use these metrics to keep track of the loss averages\n",
    "        # over each epoch.\n",
    "        self.total_loss_tracker = keras.metrics.Mean(name=\"total_loss\")\n",
    "        self.reconstruction_loss_tracker = keras.metrics.Mean(\n",
    "        name=\"reconstruction_loss\")\n",
    "        self.kl_loss_tracker = keras.metrics.Mean(name=\"kl_loss\")\n",
    "\n",
    "        # We list the metrics in the metrics\n",
    "        # property to enable the model to reset\n",
    "        # them after each epoch (or between\n",
    "        # multiple calls to fit()/evaluate())\n",
    "\n",
    "    @property\n",
    "    def metrics(self):\n",
    "        return [self.total_loss_tracker,\n",
    "                self.reconstruction_loss_tracker,\n",
    "                self.kl_loss_tracker]\n",
    "\n",
    "    def train_step(self, data):\n",
    "        with tf.GradientTape() as tape:\n",
    "            z_mean, z_log_var = self.encoder(data)\n",
    "            z = self.sampler(z_mean, z_log_var)\n",
    "            reconstruction = decoder(z)\n",
    "            # We sum the reconstruction loss over the spatial\n",
    "            # dimensions (axes 1, 2) and take its mean over the\n",
    "            # batch dimension.\n",
    "            reconstruction_loss = tf.reduce_mean(\n",
    "            tf.reduce_sum(keras.losses.binary_crossentropy(data, reconstruction), axis=(1, 2))\n",
    "            )\n",
    "            # Add the regularization term (Kullback–Leibler divergence)\n",
    "            kl_loss = -0.5 * (1 + z_log_var - tf.square(z_mean) - tf.exp(z_log_var))\n",
    "            total_loss = reconstruction_loss + tf.reduce_mean(kl_loss)\n",
    "        grads = tape.gradient(total_loss, self.trainable_weights)\n",
    "        self.optimizer.apply_gradients(zip(grads, self.trainable_weights))\n",
    "        self.total_loss_tracker.update_state(total_loss)\n",
    "        self.reconstruction_loss_tracker.update_state(reconstruction_loss) #complicated part,math in slides\n",
    "        self.kl_loss_tracker.update_state(kl_loss) #complicated part,math in slides\n",
    "        return {\n",
    "            \"total_loss\": self.total_loss_tracker.result(),\n",
    "            \"reconstruction_loss\": self.reconstruction_loss_tracker.result(),\n",
    "            \"kl_loss\": self.kl_loss_tracker.result(),\n",
    "        }"
   ],
   "metadata": {
    "collapsed": false,
    "pycharm": {
     "name": "#%%\n"
    }
   }
  },
  {
   "cell_type": "markdown",
   "source": [
    "Training the VAE"
   ],
   "metadata": {
    "collapsed": false,
    "pycharm": {
     "name": "#%% md\n"
    }
   }
  },
  {
   "cell_type": "code",
   "execution_count": 16,
   "outputs": [],
   "source": [
    "# Split into train, val, test set\n",
    "x_train, x_test, y_train, y_test = train_test_split(data, labels, test_size=0.2,train_size=0.8)\n",
    "# Train on all train / test images without labels\n",
    "all_images = np.concatenate([x_train, x_test], axis=0)"
   ],
   "metadata": {
    "collapsed": false,
    "pycharm": {
     "name": "#%%\n"
    }
   }
  },
  {
   "cell_type": "code",
   "execution_count": 46,
   "outputs": [
    {
     "name": "stdout",
     "output_type": "stream",
     "text": [
      "Epoch 1/30\n",
      "40/40 [==============================] - 10s 241ms/step - total_loss: 222.5094 - reconstruction_loss: 213.4863 - kl_loss: 9.1947\n",
      "Epoch 2/30\n",
      "40/40 [==============================] - 12s 291ms/step - total_loss: 7.5083 - reconstruction_loss: 6.7557 - kl_loss: 0.7592\n",
      "Epoch 3/30\n",
      "40/40 [==============================] - 9s 237ms/step - total_loss: 4.5613 - reconstruction_loss: 4.2472 - kl_loss: 0.3134\n",
      "Epoch 4/30\n",
      "40/40 [==============================] - 10s 245ms/step - total_loss: 1.2682 - reconstruction_loss: 0.0409 - kl_loss: 1.2130\n",
      "Epoch 5/30\n",
      "40/40 [==============================] - 15s 388ms/step - total_loss: -745.7750 - reconstruction_loss: -1279.0637 - kl_loss: 541.0186\n",
      "Epoch 6/30\n",
      "40/40 [==============================] - 14s 350ms/step - total_loss: -64464.6992 - reconstruction_loss: -151207.5938 - kl_loss: 88823.4609\n",
      "Epoch 7/30\n",
      "40/40 [==============================] - 12s 311ms/step - total_loss: -64218.2266 - reconstruction_loss: -64301.9492 - kl_loss: 81.7038\n",
      "Epoch 8/30\n",
      "40/40 [==============================] - 10s 253ms/step - total_loss: 16165864.0000 - reconstruction_loss: -9056991.0000 - kl_loss: 25828198.0000\n",
      "Epoch 9/30\n",
      "40/40 [==============================] - 10s 254ms/step - total_loss: -212540.3281 - reconstruction_loss: -212577.0000 - kl_loss: 36.9714\n",
      "Epoch 10/30\n",
      "40/40 [==============================] - 10s 260ms/step - total_loss: -273508.1250 - reconstruction_loss: -273552.5312 - kl_loss: 44.9816\n",
      "Epoch 11/30\n",
      "40/40 [==============================] - 10s 247ms/step - total_loss: -356215.4688 - reconstruction_loss: -356278.0312 - kl_loss: 62.6431\n",
      "Epoch 12/30\n",
      "40/40 [==============================] - 10s 257ms/step - total_loss: -440545.2500 - reconstruction_loss: -440624.3438 - kl_loss: 78.6667\n",
      "Epoch 13/30\n",
      "40/40 [==============================] - 10s 249ms/step - total_loss: -531223.7500 - reconstruction_loss: -531318.6250 - kl_loss: 94.4517\n",
      "Epoch 14/30\n",
      "40/40 [==============================] - 10s 249ms/step - total_loss: -631888.4375 - reconstruction_loss: -631998.6875 - kl_loss: 110.7811\n",
      "Epoch 15/30\n",
      "40/40 [==============================] - 10s 247ms/step - total_loss: -741872.0625 - reconstruction_loss: -741998.8125 - kl_loss: 128.3222\n",
      "Epoch 16/30\n",
      "40/40 [==============================] - 10s 248ms/step - total_loss: -898440.3750 - reconstruction_loss: -898588.8125 - kl_loss: 147.7812\n",
      "Epoch 17/30\n",
      "40/40 [==============================] - 10s 247ms/step - total_loss: -1077456.2500 - reconstruction_loss: -1077627.2500 - kl_loss: 170.2879\n",
      "Epoch 18/30\n",
      "40/40 [==============================] - 10s 245ms/step - total_loss: -1297620.2500 - reconstruction_loss: -1297816.6250 - kl_loss: 196.7867\n",
      "Epoch 19/30\n",
      "40/40 [==============================] - 11s 283ms/step - total_loss: -1601776.5000 - reconstruction_loss: -1602006.5000 - kl_loss: 229.0699\n",
      "Epoch 20/30\n",
      "40/40 [==============================] - 11s 284ms/step - total_loss: -2042289.6250 - reconstruction_loss: -2042563.0000 - kl_loss: 271.5180\n",
      "Epoch 21/30\n",
      "40/40 [==============================] - 11s 279ms/step - total_loss: -2654614.5000 - reconstruction_loss: -2654954.5000 - kl_loss: 340.9702\n",
      "Epoch 22/30\n",
      "40/40 [==============================] - 11s 264ms/step - total_loss: -3823987.5000 - reconstruction_loss: -3824467.5000 - kl_loss: 476.1549\n",
      "Epoch 23/30\n",
      "40/40 [==============================] - 12s 295ms/step - total_loss: -6087783.5000 - reconstruction_loss: -6088639.0000 - kl_loss: 846.6647\n",
      "Epoch 24/30\n",
      "40/40 [==============================] - 10s 254ms/step - total_loss: -15338834.0000 - reconstruction_loss: -15411646.0000 - kl_loss: 43740.8008\n",
      "Epoch 25/30\n",
      "40/40 [==============================] - 10s 256ms/step - total_loss: -147553696.0000 - reconstruction_loss: -329292640.0000 - kl_loss: 186099024.0000\n",
      "Epoch 26/30\n",
      "40/40 [==============================] - 10s 240ms/step - total_loss: -211059920.0000 - reconstruction_loss: -1080327040.0000 - kl_loss: 890129472.0000\n",
      "Epoch 27/30\n",
      "40/40 [==============================] - 10s 243ms/step - total_loss: -1929791.3750 - reconstruction_loss: -1929799.3750 - kl_loss: 8.2388\n",
      "Epoch 28/30\n",
      "40/40 [==============================] - 10s 242ms/step - total_loss: -2046181.2500 - reconstruction_loss: -2046189.0000 - kl_loss: 8.0809\n",
      "Epoch 29/30\n",
      "40/40 [==============================] - 10s 245ms/step - total_loss: -2680046.5000 - reconstruction_loss: -2680057.7500 - kl_loss: 11.0658\n",
      "Epoch 30/30\n",
      "40/40 [==============================] - 10s 262ms/step - total_loss: -3011025.2500 - reconstruction_loss: -3011037.5000 - kl_loss: 12.2766\n"
     ]
    },
    {
     "data": {
      "text/plain": "<keras.callbacks.History at 0x23b4fa04850>"
     },
     "execution_count": 46,
     "metadata": {},
     "output_type": "execute_result"
    }
   ],
   "source": [
    "# Vae\n",
    "vae = VAE(encoder, decoder)\n",
    "# Note that we don’t pass a loss argument in compile(), since the loss\n",
    "# is already part of the train_step().\n",
    "vae.compile(optimizer=keras.optimizers.Adam(), run_eagerly=True)\n",
    "# Note that we don’t pass targets in fit(), since train_step()\n",
    "# doesn’t expect any\n",
    "vae.fit(all_images, epochs=30, batch_size=128)"
   ],
   "metadata": {
    "collapsed": false,
    "pycharm": {
     "name": "#%%\n"
    }
   }
  },
  {
   "cell_type": "code",
   "execution_count": 48,
   "outputs": [
    {
     "ename": "ValueError",
     "evalue": "in user code:\n\n    File \"c:\\users\\levin\\documents\\hslu\\fs_23\\computer_vision\\venv\\lib\\site-packages\\keras\\engine\\training.py\", line 2137, in predict_function  *\n        return step_function(self, iterator)\n    File \"c:\\users\\levin\\documents\\hslu\\fs_23\\computer_vision\\venv\\lib\\site-packages\\keras\\engine\\training.py\", line 2123, in step_function  **\n        outputs = model.distribute_strategy.run(run_step, args=(data,))\n    File \"c:\\users\\levin\\documents\\hslu\\fs_23\\computer_vision\\venv\\lib\\site-packages\\keras\\engine\\training.py\", line 2111, in run_step  **\n        outputs = model.predict_step(data)\n    File \"c:\\users\\levin\\documents\\hslu\\fs_23\\computer_vision\\venv\\lib\\site-packages\\keras\\engine\\training.py\", line 2079, in predict_step\n        return self(x, training=False)\n    File \"c:\\users\\levin\\documents\\hslu\\fs_23\\computer_vision\\venv\\lib\\site-packages\\keras\\utils\\traceback_utils.py\", line 70, in error_handler\n        raise e.with_traceback(filtered_tb) from None\n    File \"c:\\users\\levin\\documents\\hslu\\fs_23\\computer_vision\\venv\\lib\\site-packages\\keras\\engine\\input_spec.py\", line 295, in assert_input_compatibility\n        raise ValueError(\n\n    ValueError: Input 0 of layer \"decoder\" is incompatible with the layer: expected shape=(None, 3), found shape=(None, 2)\n",
     "output_type": "error",
     "traceback": [
      "\u001B[1;31m---------------------------------------------------------------------------\u001B[0m",
      "\u001B[1;31mValueError\u001B[0m                                Traceback (most recent call last)",
      "Cell \u001B[1;32mIn[48], line 18\u001B[0m\n\u001B[0;32m     14\u001B[0m \u001B[38;5;28;01mfor\u001B[39;00m j, xi \u001B[38;5;129;01min\u001B[39;00m \u001B[38;5;28menumerate\u001B[39m(grid_x):\n\u001B[0;32m     15\u001B[0m     \u001B[38;5;66;03m# For each location, sample a digit and\u001B[39;00m\n\u001B[0;32m     16\u001B[0m     \u001B[38;5;66;03m# add it to our figure\u001B[39;00m\n\u001B[0;32m     17\u001B[0m     z_sample \u001B[38;5;241m=\u001B[39m np\u001B[38;5;241m.\u001B[39marray([[xi, yi]])\n\u001B[1;32m---> 18\u001B[0m     x_decoded \u001B[38;5;241m=\u001B[39m \u001B[43mvae\u001B[49m\u001B[38;5;241;43m.\u001B[39;49m\u001B[43mdecoder\u001B[49m\u001B[38;5;241;43m.\u001B[39;49m\u001B[43mpredict\u001B[49m\u001B[43m(\u001B[49m\u001B[43mz_sample\u001B[49m\u001B[43m)\u001B[49m\n\u001B[0;32m     19\u001B[0m     digit \u001B[38;5;241m=\u001B[39m x_decoded[\u001B[38;5;241m0\u001B[39m]\u001B[38;5;241m.\u001B[39mreshape(digit_size, digit_size)\n\u001B[0;32m     20\u001B[0m     figure[\n\u001B[0;32m     21\u001B[0m         i \u001B[38;5;241m*\u001B[39m digit_size : (i \u001B[38;5;241m+\u001B[39m \u001B[38;5;241m1\u001B[39m) \u001B[38;5;241m*\u001B[39m digit_size,\n\u001B[0;32m     22\u001B[0m         j \u001B[38;5;241m*\u001B[39m digit_size : (j \u001B[38;5;241m+\u001B[39m \u001B[38;5;241m1\u001B[39m) \u001B[38;5;241m*\u001B[39m digit_size,\n\u001B[0;32m     23\u001B[0m     ] \u001B[38;5;241m=\u001B[39m digit\n",
      "File \u001B[1;32mc:\\users\\levin\\documents\\hslu\\fs_23\\computer_vision\\venv\\lib\\site-packages\\keras\\utils\\traceback_utils.py:70\u001B[0m, in \u001B[0;36mfilter_traceback.<locals>.error_handler\u001B[1;34m(*args, **kwargs)\u001B[0m\n\u001B[0;32m     67\u001B[0m     filtered_tb \u001B[38;5;241m=\u001B[39m _process_traceback_frames(e\u001B[38;5;241m.\u001B[39m__traceback__)\n\u001B[0;32m     68\u001B[0m     \u001B[38;5;66;03m# To get the full stack trace, call:\u001B[39;00m\n\u001B[0;32m     69\u001B[0m     \u001B[38;5;66;03m# `tf.debugging.disable_traceback_filtering()`\u001B[39;00m\n\u001B[1;32m---> 70\u001B[0m     \u001B[38;5;28;01mraise\u001B[39;00m e\u001B[38;5;241m.\u001B[39mwith_traceback(filtered_tb) \u001B[38;5;28;01mfrom\u001B[39;00m \u001B[38;5;28mNone\u001B[39m\n\u001B[0;32m     71\u001B[0m \u001B[38;5;28;01mfinally\u001B[39;00m:\n\u001B[0;32m     72\u001B[0m     \u001B[38;5;28;01mdel\u001B[39;00m filtered_tb\n",
      "File \u001B[1;32m~\\AppData\\Local\\Temp\\__autograph_generated_filev0f61l0n.py:15\u001B[0m, in \u001B[0;36mouter_factory.<locals>.inner_factory.<locals>.tf__predict_function\u001B[1;34m(iterator)\u001B[0m\n\u001B[0;32m     13\u001B[0m \u001B[38;5;28;01mtry\u001B[39;00m:\n\u001B[0;32m     14\u001B[0m     do_return \u001B[38;5;241m=\u001B[39m \u001B[38;5;28;01mTrue\u001B[39;00m\n\u001B[1;32m---> 15\u001B[0m     retval_ \u001B[38;5;241m=\u001B[39m ag__\u001B[38;5;241m.\u001B[39mconverted_call(ag__\u001B[38;5;241m.\u001B[39mld(step_function), (ag__\u001B[38;5;241m.\u001B[39mld(\u001B[38;5;28mself\u001B[39m), ag__\u001B[38;5;241m.\u001B[39mld(iterator)), \u001B[38;5;28;01mNone\u001B[39;00m, fscope)\n\u001B[0;32m     16\u001B[0m \u001B[38;5;28;01mexcept\u001B[39;00m:\n\u001B[0;32m     17\u001B[0m     do_return \u001B[38;5;241m=\u001B[39m \u001B[38;5;28;01mFalse\u001B[39;00m\n",
      "\u001B[1;31mValueError\u001B[0m: in user code:\n\n    File \"c:\\users\\levin\\documents\\hslu\\fs_23\\computer_vision\\venv\\lib\\site-packages\\keras\\engine\\training.py\", line 2137, in predict_function  *\n        return step_function(self, iterator)\n    File \"c:\\users\\levin\\documents\\hslu\\fs_23\\computer_vision\\venv\\lib\\site-packages\\keras\\engine\\training.py\", line 2123, in step_function  **\n        outputs = model.distribute_strategy.run(run_step, args=(data,))\n    File \"c:\\users\\levin\\documents\\hslu\\fs_23\\computer_vision\\venv\\lib\\site-packages\\keras\\engine\\training.py\", line 2111, in run_step  **\n        outputs = model.predict_step(data)\n    File \"c:\\users\\levin\\documents\\hslu\\fs_23\\computer_vision\\venv\\lib\\site-packages\\keras\\engine\\training.py\", line 2079, in predict_step\n        return self(x, training=False)\n    File \"c:\\users\\levin\\documents\\hslu\\fs_23\\computer_vision\\venv\\lib\\site-packages\\keras\\utils\\traceback_utils.py\", line 70, in error_handler\n        raise e.with_traceback(filtered_tb) from None\n    File \"c:\\users\\levin\\documents\\hslu\\fs_23\\computer_vision\\venv\\lib\\site-packages\\keras\\engine\\input_spec.py\", line 295, in assert_input_compatibility\n        raise ValueError(\n\n    ValueError: Input 0 of layer \"decoder\" is incompatible with the layer: expected shape=(None, 3), found shape=(None, 2)\n"
     ]
    }
   ],
   "source": [
    "# We’ll display a grid of 30 x 30\n",
    "# digits (900 digits total)\n",
    "# Generating/predicting images based on the latent space\n",
    "n = 30\n",
    "digit_size = 28\n",
    "figure = np.zeros((digit_size * n, digit_size * n))\n",
    "\n",
    "# Sample points linearly on a 2D grid\n",
    "grid_x = np.linspace(-1, 1, n)\n",
    "grid_y = np.linspace(-1, 1, n)[::-1]\n",
    "\n",
    "# Iterate over grid locations\n",
    "for i, yi in enumerate(grid_y):\n",
    "    for j, xi in enumerate(grid_x):\n",
    "        # For each location, sample a digit and\n",
    "        # add it to our figure\n",
    "        z_sample = np.array([[xi, yi]])\n",
    "        x_decoded = vae.decoder.predict(z_sample)\n",
    "        digit = x_decoded[0].reshape(digit_size, digit_size)\n",
    "        figure[\n",
    "            i * digit_size : (i + 1) * digit_size,\n",
    "            j * digit_size : (j + 1) * digit_size,\n",
    "        ] = digit\n",
    "\n",
    "plt.figure(figsize=(15, 15))\n",
    "start_range = digit_size // 2\n",
    "end_range = n * digit_size + start_range\n",
    "pixel_range = np.arange(start_range, end_range, digit_size)\n",
    "sample_range_x = np.round(grid_x, 1)\n",
    "sample_range_y = np.round(grid_y, 1)\n",
    "plt.xticks(pixel_range, sample_range_x)\n",
    "plt.yticks(pixel_range, sample_range_y)\n",
    "plt.xlabel(\"z[0]\")\n",
    "plt.ylabel(\"z[1]\")\n",
    "plt.axis(\"off\")\n",
    "plt.imshow(figure, cmap=\"Greys_r\")"
   ],
   "metadata": {
    "collapsed": false,
    "pycharm": {
     "name": "#%%\n"
    }
   }
  },
  {
   "cell_type": "code",
   "execution_count": null,
   "outputs": [],
   "source": [
    "  # ---> 18     x_decoded = vae.decoder.predict(z_sample)\n",
    "  # ValueError: Input 0 of layer \"decoder\" is incompatible with the layer: expected shape=(None, 3), found shape=(None, 2)"
   ],
   "metadata": {
    "collapsed": false,
    "pycharm": {
     "name": "#%%\n"
    }
   }
  },
  {
   "cell_type": "code",
   "execution_count": null,
   "outputs": [],
   "source": [],
   "metadata": {
    "collapsed": false,
    "pycharm": {
     "name": "#%%\n"
    }
   }
  }
 ],
 "metadata": {
  "kernelspec": {
   "display_name": "Python 3",
   "language": "python",
   "name": "python3"
  },
  "language_info": {
   "codemirror_mode": {
    "name": "ipython",
    "version": 3
   },
   "file_extension": ".py",
   "mimetype": "text/x-python",
   "name": "python",
   "nbconvert_exporter": "python",
   "pygments_lexer": "ipython3",
   "version": "3.8.8"
  }
 },
 "nbformat": 4,
 "nbformat_minor": 1
}